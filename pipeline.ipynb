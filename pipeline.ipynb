{
 "cells": [
  {
   "cell_type": "code",
   "execution_count": 58,
   "id": "fddfb528-b5de-4060-9102-0d72f516150b",
   "metadata": {},
   "outputs": [],
   "source": [
    "import kfp\n",
    "from google.cloud import aiplatform as vertex_ai\n",
    "from google_cloud_pipeline_components import aiplatform as gcc_aip\n",
    "from kfp.v2 import compiler\n",
    "from kfp.v2.dsl import component\n",
    "from kfp.v2.google import experimental\n",
    "from kfp.v2.google.client import AIPlatformClient"
   ]
  },
  {
   "cell_type": "code",
   "execution_count": 59,
   "id": "b444badb-ee71-415d-9fae-960185a9b213",
   "metadata": {},
   "outputs": [],
   "source": [
    "PROJECT_ID='ml-pipelines-showcase'\n",
    "\n",
    "BUCKET_NAME='mlops-vertex-jsk'\n",
    "PIPELINE_ROOT = \"gs://{}/hearts/pipeline\".format(BUCKET_NAME)\n",
    "from datetime import datetime\n",
    "\n",
    "TIMESTAMP = datetime.now().strftime(\"%Y%m%d%H%M%S\")"
   ]
  },
  {
   "cell_type": "code",
   "execution_count": 60,
   "id": "18487b08-0be6-4518-9294-144782499be3",
   "metadata": {},
   "outputs": [],
   "source": [
    "vertex_ai.init(\n",
    "    project='ml-pipelines-showcase',\n",
    "    location='us-central1',\n",
    "    staging_bucket='gs://mlops-vertex-jsk',\n",
    ")"
   ]
  },
  {
   "cell_type": "code",
   "execution_count": 61,
   "id": "adf7828a-099d-4dcd-a2b0-635036254557",
   "metadata": {},
   "outputs": [
    {
     "name": "stdout",
     "output_type": "stream",
     "text": [
      "['--num_neurons', '128', '--dropout', 0.5, '--working_dir', 'gs://mlops-vertex-jsk/hearts/pipeline/20211014115705'] gs://mlops-vertex-jsk/hearts/pipeline/20211014115705 hearts_train_deploy20211014115705\n"
     ]
    }
   ],
   "source": [
    "num_neurons= \"128\"\n",
    "dropout= 0.5\n",
    "\n",
    "\n",
    "\n",
    "# create working dir to pass to job spec\n",
    "WORKING_DIR = f\"{PIPELINE_ROOT}/{TIMESTAMP}\"\n",
    "\n",
    "MODEL_DISPLAY_NAME = f\"hearts_train_deploy{TIMESTAMP}\"\n",
    "\n",
    "\n",
    "TRAINER_ARGS = [\"--num_neurons\", num_neurons, \"--dropout\", dropout, \"--working_dir\",WORKING_DIR]\n",
    "\n",
    "print(TRAINER_ARGS, WORKING_DIR, MODEL_DISPLAY_NAME)"
   ]
  },
  {
   "cell_type": "code",
   "execution_count": 62,
   "id": "bf44fe91-1004-4346-863b-689661be6dde",
   "metadata": {},
   "outputs": [],
   "source": [
    "@component\n",
    "def print_op(input1: str):\n",
    "    print(\"training task: {}\".format(input1))"
   ]
  },
  {
   "cell_type": "code",
   "execution_count": 63,
   "id": "d5c74b6a-33cb-4398-8edc-ca517a8ac96d",
   "metadata": {},
   "outputs": [],
   "source": [
    "@kfp.dsl.pipeline(name=\"hearts-train-endpoint-deploy\" + TIMESTAMP)\n",
    "def pipeline(\n",
    "    project: str = PROJECT_ID,\n",
    "    model_display_name: str = MODEL_DISPLAY_NAME,\n",
    "    serving_container_image_uri: str = \"us-docker.pkg.dev/cloud-aiplatform/prediction/tf2-cpu.2-6:latest\",\n",
    "):\n",
    "\n",
    "    train_task = print_op(\"model training\")\n",
    "    experimental.run_as_aiplatform_custom_job(\n",
    "        train_task,\n",
    "        worker_pool_specs=[\n",
    "            {\n",
    "                \"containerSpec\": {\n",
    "                    \"args\": TRAINER_ARGS,\n",
    "                    \"imageUri\": \"gcr.io/ml-pipelines-showcase/heart:training\",\n",
    "                },\n",
    "                \"replicaCount\": \"1\",\n",
    "                \"machineSpec\": {\n",
    "                    \"machineType\": \"n1-standard-4\",\n",
    "                },\n",
    "            }\n",
    "        ],\n",
    "    )\n",
    "\n",
    "    model_upload_op = gcc_aip.ModelUploadOp(\n",
    "        project=project,\n",
    "        display_name=model_display_name,\n",
    "        artifact_uri=WORKING_DIR,\n",
    "        serving_container_image_uri=serving_container_image_uri,\n",
    "        serving_container_environment_variables={\"NOT_USED\": \"NO_VALUE\"},\n",
    "    )\n",
    "    model_upload_op.after(train_task)\n",
    "\n",
    "    endpoint_create_op = gcc_aip.EndpointCreateOp(\n",
    "        project=project,\n",
    "        display_name=\"pipelines-created-endpoint\",\n",
    "    )\n",
    "\n",
    "    model_deploy_op = gcc_aip.ModelDeployOp(  # noqa: F841\n",
    "        project=project,\n",
    "        endpoint=endpoint_create_op.outputs[\"endpoint\"],\n",
    "        model=model_upload_op.outputs[\"model\"],\n",
    "        deployed_model_display_name=model_display_name,\n",
    "        machine_type=\"n1-standard-4\",\n",
    "    )"
   ]
  },
  {
   "cell_type": "code",
   "execution_count": 64,
   "id": "e3653538-cfea-43de-956c-9b59a6514e78",
   "metadata": {},
   "outputs": [],
   "source": [
    "from kfp.v2 import compiler  "
   ]
  },
  {
   "cell_type": "code",
   "execution_count": 65,
   "id": "4100afc5-a851-48a5-b32c-57aa9d1f5b17",
   "metadata": {},
   "outputs": [],
   "source": [
    "compiler.Compiler().compile(\n",
    "    pipeline_func=pipeline,\n",
    "    package_path=\"tabular regression_pipeline.json\".replace(\" \", \"_\"),\n",
    ")"
   ]
  },
  {
   "cell_type": "code",
   "execution_count": null,
   "id": "dce476a0-a92b-44ba-ad8f-4011c288d364",
   "metadata": {},
   "outputs": [
    {
     "name": "stdout",
     "output_type": "stream",
     "text": [
      "INFO:google.cloud.aiplatform.pipeline_jobs:Creating PipelineJob\n",
      "INFO:google.cloud.aiplatform.pipeline_jobs:PipelineJob created. Resource name: projects/15357076341/locations/us-central1/pipelineJobs/hearts-train-endpoint-deploy20211014115705-20211014115707\n",
      "INFO:google.cloud.aiplatform.pipeline_jobs:To use this PipelineJob in another session:\n",
      "INFO:google.cloud.aiplatform.pipeline_jobs:pipeline_job = aiplatform.PipelineJob.get('projects/15357076341/locations/us-central1/pipelineJobs/hearts-train-endpoint-deploy20211014115705-20211014115707')\n",
      "INFO:google.cloud.aiplatform.pipeline_jobs:View Pipeline Job:\n",
      "https://console.cloud.google.com/vertex-ai/locations/us-central1/pipelines/runs/hearts-train-endpoint-deploy20211014115705-20211014115707?project=15357076341\n",
      "INFO:google.cloud.aiplatform.pipeline_jobs:PipelineJob projects/15357076341/locations/us-central1/pipelineJobs/hearts-train-endpoint-deploy20211014115705-20211014115707 current state:\n",
      "PipelineState.PIPELINE_STATE_RUNNING\n",
      "INFO:google.cloud.aiplatform.pipeline_jobs:PipelineJob projects/15357076341/locations/us-central1/pipelineJobs/hearts-train-endpoint-deploy20211014115705-20211014115707 current state:\n",
      "PipelineState.PIPELINE_STATE_RUNNING\n",
      "INFO:google.cloud.aiplatform.pipeline_jobs:PipelineJob projects/15357076341/locations/us-central1/pipelineJobs/hearts-train-endpoint-deploy20211014115705-20211014115707 current state:\n",
      "PipelineState.PIPELINE_STATE_RUNNING\n",
      "INFO:google.cloud.aiplatform.pipeline_jobs:PipelineJob projects/15357076341/locations/us-central1/pipelineJobs/hearts-train-endpoint-deploy20211014115705-20211014115707 current state:\n",
      "PipelineState.PIPELINE_STATE_RUNNING\n",
      "INFO:google.cloud.aiplatform.pipeline_jobs:PipelineJob projects/15357076341/locations/us-central1/pipelineJobs/hearts-train-endpoint-deploy20211014115705-20211014115707 current state:\n",
      "PipelineState.PIPELINE_STATE_RUNNING\n",
      "INFO:google.cloud.aiplatform.pipeline_jobs:PipelineJob projects/15357076341/locations/us-central1/pipelineJobs/hearts-train-endpoint-deploy20211014115705-20211014115707 current state:\n",
      "PipelineState.PIPELINE_STATE_RUNNING\n"
     ]
    }
   ],
   "source": [
    "DISPLAY_NAME = \"hearts_\" + TIMESTAMP\n",
    "\n",
    "job = vertex_ai.PipelineJob(\n",
    "    display_name=DISPLAY_NAME,\n",
    "    template_path=\"tabular regression_pipeline.json\".replace(\" \", \"_\"),\n",
    "    pipeline_root=PIPELINE_ROOT,\n",
    ")\n",
    "\n",
    "job.run()"
   ]
  },
  {
   "cell_type": "code",
   "execution_count": null,
   "id": "954328e1-ca71-427b-84c1-80ab027026d2",
   "metadata": {},
   "outputs": [],
   "source": []
  }
 ],
 "metadata": {
  "environment": {
   "name": "tf2-gpu.2-6.m80",
   "type": "gcloud",
   "uri": "gcr.io/deeplearning-platform-release/tf2-gpu.2-6:m80"
  },
  "kernelspec": {
   "display_name": "Python [conda env:root] *",
   "language": "python",
   "name": "conda-root-py"
  },
  "language_info": {
   "codemirror_mode": {
    "name": "ipython",
    "version": 3
   },
   "file_extension": ".py",
   "mimetype": "text/x-python",
   "name": "python",
   "nbconvert_exporter": "python",
   "pygments_lexer": "ipython3",
   "version": "3.7.10"
  }
 },
 "nbformat": 4,
 "nbformat_minor": 5
}
