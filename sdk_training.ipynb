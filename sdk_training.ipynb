{
 "cells": [
  {
   "cell_type": "code",
   "execution_count": 5,
   "id": "1e8db985-00d5-42dc-8948-e991242287dd",
   "metadata": {},
   "outputs": [],
   "source": [
    "from typing import Optional\n",
    "from datetime import datetime\n",
    "import os\n",
    "import tensorflow as tf\n",
    "\n",
    "from google.auth import credentials as auth_credentials\n",
    "from google.cloud import aiplatform as vertex_ai\n",
    "from google.cloud.aiplatform import hyperparameter_tuning as hpt"
   ]
  },
  {
   "cell_type": "code",
   "execution_count": 1,
   "id": "2f349ed3-e637-4ac7-a997-b88562f2c0a6",
   "metadata": {},
   "outputs": [],
   "source": [
    "learning_rate = 0.1\n",
    "dropout = 0.24\n",
    "num_neurons = \"128\"\n",
    "num_epochs = \"50\"\n",
    "\n",
    "trainer_args = [\n",
    "    f'--num_neurons={num_neurons}',\n",
    "    f'--learning_rate={learning_rate}',\n",
    "    f'--num_epochs={num_epochs}'\n",
    "    f'--dropout={dropout}',\n",
    "    f'--region=us-central1',\n",
    "    f'--staging-bucket=mlops-vertex-jsk/output/',\n",
    "]\n",
    "\n",
    "worker_pool_specs = [{\n",
    "    \"machine_spec\": {\n",
    "        \"machine_type\": \"n1-standard-4\",\n",
    "    },\n",
    "    \"replica_count\": 1,\n",
    "    \"container_spec\": {\n",
    "        \"image_uri\": \"gcr.io/ml-pipelines-showcase/heart:training\"\n",
    "            },\n",
    "}]"
   ]
  },
  {
   "cell_type": "code",
   "execution_count": 8,
   "id": "36465fbb-deaf-4090-893b-cd526ec0d722",
   "metadata": {},
   "outputs": [],
   "source": [
    "my_custom_job = vertex_ai.CustomJob(display_name='heart-training-sdk-job',\n",
    "                              worker_pool_specs=worker_pool_specs,\n",
    "                                    staging_bucket='gs://mlops-vertex-jsk/hptune/experiments/staging',\n",
    "                              base_output_dir='gs://mlops-vertex-jsk/output',\n",
    "                                    )"
   ]
  },
  {
   "cell_type": "code",
   "execution_count": null,
   "id": "b2eca91d-4b31-482a-8a30-ce55b517b02c",
   "metadata": {},
   "outputs": [
    {
     "name": "stdout",
     "output_type": "stream",
     "text": [
      "INFO:google.cloud.aiplatform.jobs:Creating CustomJob\n",
      "INFO:google.cloud.aiplatform.jobs:CustomJob created. Resource name: projects/15357076341/locations/us-central1/customJobs/2199579608435654656\n",
      "INFO:google.cloud.aiplatform.jobs:To use this CustomJob in another session:\n",
      "INFO:google.cloud.aiplatform.jobs:custom_job = aiplatform.CustomJob.get('projects/15357076341/locations/us-central1/customJobs/2199579608435654656')\n",
      "INFO:google.cloud.aiplatform.jobs:View Custom Job:\n",
      "https://console.cloud.google.com/ai/platform/locations/us-central1/training/2199579608435654656?project=15357076341\n",
      "INFO:google.cloud.aiplatform.jobs:CustomJob projects/15357076341/locations/us-central1/customJobs/2199579608435654656 current state:\n",
      "JobState.JOB_STATE_PENDING\n",
      "INFO:google.cloud.aiplatform.jobs:CustomJob projects/15357076341/locations/us-central1/customJobs/2199579608435654656 current state:\n",
      "JobState.JOB_STATE_PENDING\n",
      "INFO:google.cloud.aiplatform.jobs:CustomJob projects/15357076341/locations/us-central1/customJobs/2199579608435654656 current state:\n",
      "JobState.JOB_STATE_PENDING\n",
      "INFO:google.cloud.aiplatform.jobs:CustomJob projects/15357076341/locations/us-central1/customJobs/2199579608435654656 current state:\n",
      "JobState.JOB_STATE_PENDING\n",
      "INFO:google.cloud.aiplatform.jobs:CustomJob projects/15357076341/locations/us-central1/customJobs/2199579608435654656 current state:\n",
      "JobState.JOB_STATE_PENDING\n"
     ]
    }
   ],
   "source": [
    "my_custom_job.run()"
   ]
  },
  {
   "cell_type": "code",
   "execution_count": null,
   "id": "37271cdf-8ada-48db-ab64-4689d69be8c2",
   "metadata": {},
   "outputs": [],
   "source": []
  }
 ],
 "metadata": {
  "environment": {
   "name": "tf2-gpu.2-6.m80",
   "type": "gcloud",
   "uri": "gcr.io/deeplearning-platform-release/tf2-gpu.2-6:m80"
  },
  "kernelspec": {
   "display_name": "Python [conda env:root] *",
   "language": "python",
   "name": "conda-root-py"
  },
  "language_info": {
   "codemirror_mode": {
    "name": "ipython",
    "version": 3
   },
   "file_extension": ".py",
   "mimetype": "text/x-python",
   "name": "python",
   "nbconvert_exporter": "python",
   "pygments_lexer": "ipython3",
   "version": "3.7.10"
  }
 },
 "nbformat": 4,
 "nbformat_minor": 5
}
