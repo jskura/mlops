{
 "cells": [
  {
   "cell_type": "code",
   "execution_count": 2,
   "id": "06ac2069-dc37-4e2f-acbb-b442b7be732e",
   "metadata": {},
   "outputs": [],
   "source": [
    "import os\n",
    "from datetime import datetime\n",
    "import tensorflow as tf\n",
    "\n",
    "from google.cloud import aiplatform as vertex_ai\n",
    "\n",
    "vertex_ai.init(\n",
    "    project='ml-pipelines-showcase',\n",
    "    location='us-central1',\n",
    "    staging_bucket='mlops-vertex-jsk'\n",
    ")"
   ]
  },
  {
   "cell_type": "code",
   "execution_count": 3,
   "id": "baab39e8-eee6-403a-9237-fa6dabfa8117",
   "metadata": {},
   "outputs": [],
   "source": [
    "endpoint_name = vertex_ai.Endpoint.list(\n",
    "    filter=f'display_name=heart_endpoint', \n",
    "    order_by=\"update_time\")[-1].gca_resource.name"
   ]
  },
  {
   "cell_type": "code",
   "execution_count": 4,
   "id": "a9633f4f-ef2e-43a2-9f23-f1489255f1a3",
   "metadata": {},
   "outputs": [
    {
     "name": "stdout",
     "output_type": "stream",
     "text": [
      "projects/15357076341/locations/us-central1/endpoints/2576067782948945920\n"
     ]
    }
   ],
   "source": [
    "print(endpoint_name)"
   ]
  },
  {
   "cell_type": "code",
   "execution_count": 5,
   "id": "f8ae6985-6d6e-4cf3-9804-31217ae68fd5",
   "metadata": {},
   "outputs": [],
   "source": [
    "endpoint = vertex_ai.Endpoint(endpoint_name)"
   ]
  },
  {
   "cell_type": "code",
   "execution_count": 28,
   "id": "608e130b-7b6d-404c-a626-0511474501ea",
   "metadata": {},
   "outputs": [],
   "source": [
    "test_case= [{\n",
    "    \"age\": [1],\n",
    "    \"sex\": [1],\n",
    "    \"cp\": [1],\n",
    "    \"trestbps\": [145],\n",
    "    \"chol\": [233],\n",
    "    \"fbs\": [1],\n",
    "    \"restecg\": [1],\n",
    "    \"thalach\": [150],\n",
    "    \"exang\": [0],\n",
    "    \"oldpeak\": [1.3],\n",
    "    \"slope\": [3],\n",
    "    \"ca\": [0],\n",
    "    \"thal\": [\"fixed\"],\n",
    "}]"
   ]
  },
  {
   "cell_type": "code",
   "execution_count": 29,
   "id": "f89b88d7-a3b5-4a43-aed4-8b4803ee45ab",
   "metadata": {},
   "outputs": [],
   "source": [
    "predictions = endpoint.predict(test_case).predictions\n"
   ]
  },
  {
   "cell_type": "code",
   "execution_count": 30,
   "id": "685cbcea-711b-45a5-aa2a-45d7771db6b0",
   "metadata": {},
   "outputs": [
    {
     "name": "stdout",
     "output_type": "stream",
     "text": [
      "[[0.766741872]]\n"
     ]
    }
   ],
   "source": [
    "print(predictions)"
   ]
  },
  {
   "cell_type": "code",
   "execution_count": null,
   "id": "cde351e9-59a4-4a2a-b6ec-cfdf4edc027e",
   "metadata": {},
   "outputs": [
    {
     "name": "stdout",
     "output_type": "stream",
     "text": [
      "Working\n"
     ]
    }
   ],
   "source": [
    "import random\n",
    "import time\n",
    "\n",
    "#for i in range(0,10):\n",
    "print(\"Working\")\n",
    "while True:\n",
    "    test_case= [{\n",
    "    \"age\": [1+round(random.random()*100.0)],\n",
    "    \"sex\": [1-round(random.random())],\n",
    "    \"cp\": [1-round(random.random())],\n",
    "    \"trestbps\": [145+round(random.random()*100.0)],\n",
    "    \"chol\": [233+round((random.random()-1)*200.0)],\n",
    "    \"fbs\": [1-round(random.random())],\n",
    "    \"restecg\": [1-round(random.random())],\n",
    "    \"thalach\": [150],\n",
    "    \"exang\": [0],\n",
    "    \"oldpeak\": [1.3],\n",
    "    \"slope\": [3-round(random.random()-1)*3],\n",
    "    \"ca\": [0],\n",
    "    \"thal\": [\"fixed\"],\n",
    "}]\n",
    "   # print(test_case)\n",
    "    endpoint.predict(test_case)\n",
    "    time.sleep(0.1)\n",
    "print(\"Done\")"
   ]
  },
  {
   "cell_type": "code",
   "execution_count": null,
   "id": "afc700a1-c710-46fa-ae62-86bc5093a0e7",
   "metadata": {},
   "outputs": [],
   "source": []
  }
 ],
 "metadata": {
  "environment": {
   "name": "tf2-gpu.2-6.m80",
   "type": "gcloud",
   "uri": "gcr.io/deeplearning-platform-release/tf2-gpu.2-6:m80"
  },
  "kernelspec": {
   "display_name": "Python [conda env:root] *",
   "language": "python",
   "name": "conda-root-py"
  },
  "language_info": {
   "codemirror_mode": {
    "name": "ipython",
    "version": 3
   },
   "file_extension": ".py",
   "mimetype": "text/x-python",
   "name": "python",
   "nbconvert_exporter": "python",
   "pygments_lexer": "ipython3",
   "version": "3.7.10"
  }
 },
 "nbformat": 4,
 "nbformat_minor": 5
}
